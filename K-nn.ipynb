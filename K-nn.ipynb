{
 "cells": [
  {
   "cell_type": "code",
   "execution_count": 1,
   "id": "5067159e-0b7f-4ce8-819e-e09765878421",
   "metadata": {},
   "outputs": [],
   "source": [
    "import scipy\n",
    "import sklearn\n",
    "import numpy as np\n",
    "import matplotlib.pyplot as plt\n",
    "from sklearn.datasets import fetch_openml\n",
    "from scipy.spatial import distance\n",
    "from collections import Counter\n",
    "import pprint\n",
    "import ipdb\n",
    "import math\n",
    "from multiprocessing import Pool"
   ]
  },
  {
   "cell_type": "code",
   "execution_count": 2,
   "id": "cd20c312-5983-4083-ad1d-45e1da8b3478",
   "metadata": {},
   "outputs": [],
   "source": [
    "mnist = fetch_openml(\"mnist_784\", as_frame=False)\n",
    "data = mnist[\"data\"]\n",
    "labels = mnist[\"target\"]"
   ]
  },
  {
   "cell_type": "code",
   "execution_count": 3,
   "id": "a5672e22-97c5-4fd4-93ec-2c901809b591",
   "metadata": {},
   "outputs": [],
   "source": [
    "def knn_search(train, train_labels, query, k):\n",
    "    distances = np.array([distance.euclidean(train_sample, query) for train_sample in train])\n",
    "    k_nearest_indices = np.argsort(distances)[:k]\n",
    "    k_nearest_labels = train_labels[k_nearest_indices]\n",
    "    chosen_label_item, = Counter(k_nearest_labels).most_common(1)\n",
    "    chosen_label, _ = chosen_label_item\n",
    "    \n",
    "    return chosen_label"
   ]
  },
  {
   "cell_type": "code",
   "execution_count": 4,
   "id": "85d35773-3dc9-4a8c-a763-7816117415f0",
   "metadata": {},
   "outputs": [],
   "source": [
    "idx = np.random.RandomState(0).choice(70000, 11000)\n",
    "train = data[idx[:1000], :].astype(int)\n",
    "train_labels = labels[idx[:1000]]\n",
    "test = data[idx[10000:], :].astype(int)\n",
    "test_labels = labels[idx[10000:]]"
   ]
  },
  {
   "cell_type": "code",
   "execution_count": 6,
   "id": "70ce029c-6628-4e0f-ab72-c6886900d16a",
   "metadata": {},
   "outputs": [
    {
     "data": {
      "text/plain": [
       "'9'"
      ]
     },
     "execution_count": 6,
     "metadata": {},
     "output_type": "execute_result"
    }
   ],
   "source": [
    "knn_search(train, train_labels, test[0], 2)"
   ]
  },
  {
   "cell_type": "code",
   "execution_count": 7,
   "id": "d1e748e4-22fc-4943-838f-b99759fafdfa",
   "metadata": {},
   "outputs": [],
   "source": [
    "prediction = np.array([knn_search(train, train_labels, query, k=10) for query in test])"
   ]
  },
  {
   "cell_type": "code",
   "execution_count": 8,
   "id": "12465853-81df-43c8-aea3-f82657b1fff1",
   "metadata": {},
   "outputs": [
    {
     "data": {
      "text/plain": [
       "'85.800000%'"
      ]
     },
     "execution_count": 8,
     "metadata": {},
     "output_type": "execute_result"
    }
   ],
   "source": [
    "acc = sum(prediction == test_labels) / len(test)\n",
    "f\"{acc:%}\""
   ]
  },
  {
   "cell_type": "code",
   "execution_count": 8,
   "id": "2bf8dd50-5071-4bc0-8b43-080751bf430e",
   "metadata": {},
   "outputs": [
    {
     "data": {
      "text/plain": [
       "array(['5', '0', '4', ..., '4', '5', '6'], dtype=object)"
      ]
     },
     "execution_count": 8,
     "metadata": {},
     "output_type": "execute_result"
    }
   ],
   "source": [
    "labels"
   ]
  },
  {
   "cell_type": "code",
   "execution_count": 5,
   "id": "c8ccdcf4-cf46-46c0-a7e5-ff6e0a907511",
   "metadata": {},
   "outputs": [],
   "source": [
    "def knn_accuracy(train, train_labels, test, test_labels, k):\n",
    "    prediction = np.array([knn_search(train, train_labels, query=query, k=k) for query in test])\n",
    "    acc = sum(prediction == test_labels) / len(test_labels)\n",
    "    \n",
    "    return acc"
   ]
  },
  {
   "cell_type": "code",
   "execution_count": null,
   "id": "d95eea98-6c3d-4d20-a1a6-1825da72efd8",
   "metadata": {},
   "outputs": [],
   "source": [
    "def plot_acc_as_k(train, train_labels, test, test_labels):\n",
    "    k_ranges = range(1, 1001)\n",
    "    items = ((train, train_labels, test, test_labels, k) for k in k_ranges)\n",
    "    results = [knn_accuracy(*item) for item in items]\n",
    "    plt.scatter(k_ranges, results, s=50)\n",
    "    plt.xlabel(\"k value\")\n",
    "    plt.grid(True)\n",
    "\n",
    "plot_acc_as_k(train, train_labels, test, test_labels)"
   ]
  },
  {
   "cell_type": "code",
   "execution_count": null,
   "id": "a26c4d94-8482-4749-bc67-c973d85b3536",
   "metadata": {},
   "outputs": [],
   "source": [
    "def plot_acc_as_n(train, train_labels, test, test_labels):\n",
    "    n_ranges = range(100, 5001, 100)\n",
    "    items = ((data[idx[:n], :].astype(int), labels[idx[:n]], test, test_labels, 1) for n in n_ranges)\n",
    "    results = [knn_accuracy(*item) for item in items]\n",
    "    plt.scatter(n_ranges, results, s=50)\n",
    "    plt.grid(True)\n",
    "\n",
    "plot_acc_as_n(train, train_labels, test, test_labels)"
   ]
  }
 ],
 "metadata": {
  "kernelspec": {
   "display_name": "Python 3 (ipykernel)",
   "language": "python",
   "name": "python3"
  },
  "language_info": {
   "codemirror_mode": {
    "name": "ipython",
    "version": 3
   },
   "file_extension": ".py",
   "mimetype": "text/x-python",
   "name": "python",
   "nbconvert_exporter": "python",
   "pygments_lexer": "ipython3",
   "version": "3.10.0"
  }
 },
 "nbformat": 4,
 "nbformat_minor": 5
}
